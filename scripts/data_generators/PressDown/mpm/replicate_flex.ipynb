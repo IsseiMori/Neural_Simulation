{
 "cells": [
  {
   "cell_type": "code",
   "execution_count": 1,
   "id": "9684df6b",
   "metadata": {},
   "outputs": [
    {
     "name": "stderr",
     "output_type": "stream",
     "text": [
      "\n"
     ]
    },
    {
     "name": "stdout",
     "output_type": "stream",
     "text": [
      "[Taichi] mode=release\n",
      "[Taichi] preparing sandbox at /tmp/taichi-9mkwg9rl\n",
      "[Taichi] version 0.7.26, llvm 10.0.0, commit e37bdb5e, linux, python 3.7.11\n",
      "[I 03/11/22 00:03:28.970 692422] [shell.py:_shell_pop_print@35] Graphical python shell detected, using wrapped sys.stdout\n",
      "[Taichi] Starting on arch=cuda\n"
     ]
    }
   ],
   "source": [
    "from plb.engine.taichi_env import TaichiEnv\n",
    "import taichi as ti\n",
    "import numpy as np\n",
    "\n",
    "from plb.config import load\n",
    "cfg = load(f\"PressDown.yml\") # you can find most default config is at plb/config/default_config.py\n",
    "\n"
   ]
  },
  {
   "cell_type": "code",
   "execution_count": 2,
   "id": "fb9e5554",
   "metadata": {},
   "outputs": [
    {
     "data": {
      "text/plain": [
       "CfgNode({'SIMULATOR': CfgNode({'dim': 3, 'quality': 1, 'yield_stress': 50.0, 'dtype': 'float64', 'max_steps': 1024, 'n_particles': 5000, 'E': 5000.0, 'nu': 0.2, 'ground_friction': 200.0, 'gravity': (0, -1, 0)}), 'PRIMITIVES': [{'shape': 'Box', 'size': '(0.08, 0.025, 0.08)', 'init_pos': '(0.2, 0.2, 0.2)', 'init_rot': '(0., 0., 0., 1.)', 'lower_bound': '(0., 0., 0.)', 'color': '(0.8, 0.8, 0.8)', 'friction': 0.0, 'action': {'dim': 3, 'scale': '(0.01, 0.01, 0.01)'}}], 'SHAPES': [{'shape': 'box', 'n_particles': 5000, 'width': '(0.20, 0.20, 0.20)', 'init_pos': '(0.5, 0.1, 0.5)', 'color': '((((200 << 8) + 200) << 8) + 0)'}], 'RENDERER': CfgNode({'spp': 5, 'max_ray_depth': 2, 'image_res': (512, 512), 'voxel_res': (168, 168, 168), 'target_res': (64, 64, 64), 'dx': 0.006666666666666667, 'sdf_threshold': 0.20720000000000002, 'bake_size': 6, 'use_roulette': False, 'light_direction': (2.0, 1.0, 0.7), 'camera_pos': (0.5, 2.0, 1.2), 'camera_rot': (1.3, 0.0), 'use_directional_light': True, 'max_num_particles': 1000000}), 'ENV': CfgNode({'loss': CfgNode({'soft_contact': False, 'weight': CfgNode({'sdf': 10, 'density': 10, 'contact': 1}), 'target_path': ''}), 'n_observed_particles': 200}), 'VARIANTS': []})"
      ]
     },
     "execution_count": 2,
     "metadata": {},
     "output_type": "execute_result"
    }
   ],
   "source": [
    "cfg"
   ]
  },
  {
   "cell_type": "code",
   "execution_count": 3,
   "id": "bf018d25",
   "metadata": {},
   "outputs": [],
   "source": [
    "cfg['RENDERER']['sdf_threshold'] = 0.20720000000000002*2"
   ]
  },
  {
   "cell_type": "code",
   "execution_count": 4,
   "id": "4f31461c",
   "metadata": {},
   "outputs": [
    {
     "name": "stdout",
     "output_type": "stream",
     "text": [
      "Building primitive\n",
      "action:\n",
      "  dim: 3\n",
      "  scale: (0.01, 0.01, 0.01)\n",
      "color: (0.8, 0.8, 0.8)\n",
      "friction: 0.0\n",
      "init_pos: (0.2, 0.2, 0.2)\n",
      "init_rot: (0.0, 0.0, 0.0, 1.0)\n",
      "lower_bound: (0.0, 0.0, 0.0)\n",
      "shape: Box\n",
      "size: (0.08, 0.025, 0.08)\n",
      "upper_bound: (1.0, 1.0, 1.0)\n",
      "variations: None\n",
      "{'n_particles': 5000, 'width': (0.2, 0.2, 0.2), 'init_pos': (0.5, 0.1, 0.5), 'color': 13158400}\n",
      "Initialize Renderer\n",
      "bake_size: 6  \n",
      "camera_pos: (0.5, 2.0, 1.2)  \n",
      "camera_rot: (1.3, 0.0)  \n",
      "dx: 0.006666666666666667  \n",
      "image_res: (512, 512)  \n",
      "light_direction: (2.0, 1.0, 0.7)  \n",
      "max_num_particles: 1000000  \n",
      "max_ray_depth: 2  \n",
      "sdf_threshold: 0.41440000000000005  \n",
      "spp: 5  \n",
      "target_res: (64, 64, 64)  \n",
      "use_directional_light: True  \n",
      "use_roulette: False  \n",
      "voxel_res: (168, 168, 168)\n"
     ]
    }
   ],
   "source": [
    "env = TaichiEnv(cfg, nn=False, loss=False)"
   ]
  },
  {
   "cell_type": "code",
   "execution_count": 5,
   "id": "9799526c",
   "metadata": {},
   "outputs": [],
   "source": [
    "def animate(imgs, filename='animation.webm', _return=True, fps=60):\n",
    "    print(f'animating {filename}')\n",
    "    from moviepy.editor import ImageSequenceClip\n",
    "    imgs = ImageSequenceClip(imgs, fps=fps)\n",
    "    imgs.write_videofile(filename, fps=fps)\n",
    "    if _return:\n",
    "        from IPython.display import Video\n",
    "        return Video(filename, embed=True)"
   ]
  },
  {
   "cell_type": "code",
   "execution_count": 6,
   "id": "57437094",
   "metadata": {},
   "outputs": [],
   "source": [
    "def set_parameters(env: TaichiEnv, yield_stress, E, nu):\n",
    "    env.simulator.yield_stress.fill(yield_stress)\n",
    "    _mu, _lam = E / (2 * (1 + nu)), E * nu / ((1 + nu) * (1 - 2 * nu))  # Lame parameters\n",
    "    env.simulator.mu.fill(_mu)\n",
    "    env.simulator.lam.fill(_lam)"
   ]
  },
  {
   "cell_type": "code",
   "execution_count": 7,
   "id": "9c65efbc",
   "metadata": {},
   "outputs": [],
   "source": [
    "dt = 1. / 30.\n",
    "\n",
    "grip_time = 1\n",
    "time_step = 40\n",
    "dim_position = 4\n",
    "dim_velocity = 3\n",
    "dim_shape_state = 14\n",
    "rest_gripper_dis = 1.8\n",
    "# np.random.seed(4)\n",
    "\n",
    "\n",
    "def sample_gripper_config():\n",
    "    dis = np.random.rand() * 0.5\n",
    "    angle = np.random.rand() * np.pi * 2.\n",
    "    x = np.cos(angle) * dis\n",
    "    z = np.sin(angle) * dis\n",
    "    d = np.random.rand() * 0.2 + 0.05    # (0.6, 0.8)\n",
    "    return x, z, d\n",
    "\n",
    "def quatFromAxisAngle(axis, angle):\n",
    "    axis /= np.linalg.norm(axis)\n",
    "\n",
    "    half = angle * 0.5\n",
    "    w = np.cos(half)\n",
    "\n",
    "    sin_theta_over_two = np.sin(half)\n",
    "    axis *= sin_theta_over_two\n",
    "\n",
    "    quat = np.array([axis[0], axis[1], axis[2], w])\n",
    "\n",
    "    return quat\n",
    "\n",
    "def calc_shape_states(t, gripper_config):\n",
    "    x, z, d = gripper_config\n",
    "    s = (rest_gripper_dis - d) / 2.\n",
    "    half_rest_gripper_dis = rest_gripper_dis / 2.\n",
    "\n",
    "    time = max(0., t) * 5\n",
    "    lastTime = max(0., t - dt) * 5\n",
    "\n",
    "    states = np.zeros((2, dim_shape_state))\n",
    "\n",
    "    dis = np.sqrt(x**2 + z**2)\n",
    "    angle = np.array([-z / dis, x / dis])\n",
    "    angle = np.array([np.abs(x / dis)])\n",
    "    quat = quatFromAxisAngle(np.array([0., 1., 0.]), np.arctan(x / z))\n",
    "    # quat = quatFromAxisAngle(np.array([0., 1., 0.]), 0)\n",
    "\n",
    "    # e_0 = np.array([x + z * half_rest_gripper_dis / dis, z - x * half_rest_gripper_dis / dis])\n",
    "    e_0 = np.array([0])\n",
    "\n",
    "    e_0_curr = e_0 + 1 * np.sin(time) * s\n",
    "    e_0_last = e_0 + 1 * np.sin(lastTime) * s\n",
    "\n",
    "    states[0, :3] = np.array([x, 1.5 - e_0_curr[0], z])\n",
    "    states[0, 3:6] = np.array([x, 1.5 - e_0_last[0], z])\n",
    "    states[0, 6:10] = quat\n",
    "    states[0, 10:14] = quat\n",
    "\n",
    "\n",
    "    return states\n",
    "\n",
    "def calc_shape_states_dx(t, gripper_config):\n",
    "    x, z, d = gripper_config\n",
    "    s = (rest_gripper_dis - d) / 2.\n",
    "    half_rest_gripper_dis = rest_gripper_dis / 2.\n",
    "\n",
    "    time = max(0., t) * 5\n",
    "    lastTime = max(0., t - dt) * 5\n",
    "\n",
    "    states = np.zeros((2, dim_shape_state))\n",
    "\n",
    "    dis = np.sqrt(x**2 + z**2)\n",
    "    angle = np.array([-z / dis, x / dis])\n",
    "    \n",
    "    e_0_dx = angle * np.sin(time) * s\n",
    "    e_1_dx = - angle * np.sin(time) * s\n",
    "    \n",
    "    return np.array([e_0_dx[0], 0.0, e_0_dx[1], e_1_dx[0], 0.0, e_1_dx[1]])\n",
    "\n",
    "\n",
    "\n",
    "def rand_float(lo, hi):\n",
    "    return np.random.rand() * (hi - lo) + lo\n",
    "\n",
    "halfEdge = np.array([0.15, 0.8, 0.15])\n",
    "center = np.array([0., 0., 0.])\n",
    "quat = np.array([1., 0., 0., 0.])\n",
    "\n",
    "def rotate(p, quat):\n",
    "    R = np.zeros((3, 3))\n",
    "    a, b, c, d = quat[3], quat[0], quat[1], quat[2]\n",
    "    R[0, 0] = a**2 + b**2 - c**2 - d**2\n",
    "    R[0, 1] = 2 * b * c - 2 * a * d\n",
    "    R[0, 2] = 2 * b * d + 2 * a * c\n",
    "    R[1, 0] = 2 * b * c + 2 * a * d\n",
    "    R[1, 1] = a**2 - b**2 + c**2 - d**2\n",
    "    R[1, 2] = 2 * c * d - 2 * a * b\n",
    "    R[2, 0] = 2 * b * d - 2 * a * c\n",
    "    R[2, 1] = 2 * c * d + 2 * a * b\n",
    "    R[2, 2] = a**2 - b**2 - c**2 + d**2\n",
    "\n",
    "    return np.dot(R, p)"
   ]
  },
  {
   "cell_type": "code",
   "execution_count": 8,
   "id": "28b0075f",
   "metadata": {},
   "outputs": [],
   "source": [
    "env.initialize()\n",
    "\n",
    "set_parameters(env, 200, 5000, 0.2)\n",
    "\n",
    "state = env.get_state()\n"
   ]
  },
  {
   "cell_type": "code",
   "execution_count": 16,
   "id": "0f002bdb",
   "metadata": {},
   "outputs": [
    {
     "name": "stdout",
     "output_type": "stream",
     "text": [
      "animating params/0000.webm\n",
      "Moviepy - Building video params/0000.webm.\n",
      "Moviepy - Writing video params/0000.webm\n",
      "\n"
     ]
    },
    {
     "name": "stderr",
     "output_type": "stream",
     "text": [
      "                                                                                                                                   \r"
     ]
    },
    {
     "name": "stdout",
     "output_type": "stream",
     "text": [
      "Moviepy - Done !\n",
      "Moviepy - video ready params/0000.webm\n",
      "animating params/0001.webm\n",
      "Moviepy - Building video params/0001.webm.\n",
      "Moviepy - Writing video params/0001.webm\n",
      "\n"
     ]
    },
    {
     "name": "stderr",
     "output_type": "stream",
     "text": [
      "                                                                                                                                   \r"
     ]
    },
    {
     "name": "stdout",
     "output_type": "stream",
     "text": [
      "Moviepy - Done !\n",
      "Moviepy - video ready params/0001.webm\n",
      "animating params/0002.webm\n",
      "Moviepy - Building video params/0002.webm.\n",
      "Moviepy - Writing video params/0002.webm\n",
      "\n"
     ]
    },
    {
     "name": "stderr",
     "output_type": "stream",
     "text": [
      "                                                                                                                                   \r"
     ]
    },
    {
     "name": "stdout",
     "output_type": "stream",
     "text": [
      "Moviepy - Done !\n",
      "Moviepy - video ready params/0002.webm\n",
      "animating params/0003.webm\n",
      "Moviepy - Building video params/0003.webm.\n",
      "Moviepy - Writing video params/0003.webm\n",
      "\n"
     ]
    },
    {
     "name": "stderr",
     "output_type": "stream",
     "text": [
      "                                                                                                                                   \r"
     ]
    },
    {
     "name": "stdout",
     "output_type": "stream",
     "text": [
      "Moviepy - Done !\n",
      "Moviepy - video ready params/0003.webm\n",
      "animating params/0004.webm\n",
      "Moviepy - Building video params/0004.webm.\n",
      "Moviepy - Writing video params/0004.webm\n",
      "\n"
     ]
    },
    {
     "name": "stderr",
     "output_type": "stream",
     "text": [
      "                                                                                                                                   \r"
     ]
    },
    {
     "name": "stdout",
     "output_type": "stream",
     "text": [
      "Moviepy - Done !\n",
      "Moviepy - video ready params/0004.webm\n",
      "animating params/0005.webm\n",
      "Moviepy - Building video params/0005.webm.\n",
      "Moviepy - Writing video params/0005.webm\n",
      "\n"
     ]
    },
    {
     "name": "stderr",
     "output_type": "stream",
     "text": [
      "                                                                                                                                   \r"
     ]
    },
    {
     "name": "stdout",
     "output_type": "stream",
     "text": [
      "Moviepy - Done !\n",
      "Moviepy - video ready params/0005.webm\n",
      "animating params/0006.webm\n",
      "Moviepy - Building video params/0006.webm.\n",
      "Moviepy - Writing video params/0006.webm\n",
      "\n"
     ]
    },
    {
     "name": "stderr",
     "output_type": "stream",
     "text": [
      "                                                                                                                                   \r"
     ]
    },
    {
     "name": "stdout",
     "output_type": "stream",
     "text": [
      "Moviepy - Done !\n",
      "Moviepy - video ready params/0006.webm\n",
      "animating params/0007.webm\n",
      "Moviepy - Building video params/0007.webm.\n",
      "Moviepy - Writing video params/0007.webm\n",
      "\n"
     ]
    },
    {
     "name": "stderr",
     "output_type": "stream",
     "text": [
      "                                                                                                                                   "
     ]
    },
    {
     "name": "stdout",
     "output_type": "stream",
     "text": [
      "Moviepy - Done !\n",
      "Moviepy - video ready params/0007.webm\n"
     ]
    },
    {
     "name": "stderr",
     "output_type": "stream",
     "text": [
      "\r"
     ]
    }
   ],
   "source": [
    "# test out parameters\n",
    "params = [\n",
    "    [5, 100, 0],\n",
    "    [5, 100, 0.45],\n",
    "    [5, 3000, 0],\n",
    "    [5, 3000, 0.45],\n",
    "    [200, 100, 0],\n",
    "    [200, 100, 0.45],\n",
    "    [200, 3000, 0],\n",
    "    [200, 3000, 0.45],\n",
    "]\n",
    "\n",
    "for param_i in range(len(params)):\n",
    "    \n",
    "    env.initialize()\n",
    "\n",
    "    set_parameters(env, params[param_i][0], params[param_i][1], params[param_i][2])\n",
    "\n",
    "    state = env.get_state()\n",
    "\n",
    "\n",
    "    gripper_config = sample_gripper_config()\n",
    "    x, v, F, C, p1 = state['state']\n",
    "\n",
    "    d = np.load(\"../PressDown/0000.npy\", allow_pickle=True).item()\n",
    "\n",
    "    # d['shape_states'][:, :, :, :3] -= d['shape_states'][0][0].mean(axis=0)[0:3]\n",
    "    d['shape_states'][:, :, :, 0] /= 5\n",
    "    d['shape_states'][:, :, :, 1] /= 5\n",
    "    d['shape_states'][:, :, :, 2] /= 5\n",
    "    d['shape_states'][:, :, :, 0] += 0.5\n",
    "    d['shape_states'][:, :, :, 2] += 0.5\n",
    "    # d['shape_states'][:, :, :, 1] = 0.16\n",
    "\n",
    "    shape_states_ = d['shape_states'][0][0]\n",
    "\n",
    "    p1[:3] = shape_states_[0][0:3]\n",
    "    p1[3:] = shape_states_[0][6:10]\n",
    "\n",
    "\n",
    "    new_state = {\n",
    "        'state': (x, v, F, C, p1),\n",
    "        'is_copy': state['is_copy'],\n",
    "        'softness': state['softness'],\n",
    "    }\n",
    "    env.set_state(**new_state)\n",
    "\n",
    "\n",
    "    positions = []\n",
    "    shape_states = []\n",
    "\n",
    "\n",
    "    images = []\n",
    "    states = []\n",
    "\n",
    "    for frame in range(40-1):\n",
    "        print(f'{frame}', end=\"\\r\",)\n",
    "\n",
    "        state = env.get_state()\n",
    "        \n",
    "        positions.append(np.concatenate((state['state'][0], np.ones([len(state['state'][0]), 1])), 1))\n",
    "        sts = np.array(state['state'][4:])\n",
    "        shape_states.append(np.concatenate([sts[:, :3], sts[:, :3], sts[:, 3:], sts[:, 3:]], axis=1))\n",
    "        \n",
    "\n",
    "        # env.step(calc_shape_states_dx(frame * dt, gripper_config))\n",
    "        env.step(np.concatenate([d['shape_states'][0][frame+1][0, 0:3] - d['shape_states'][0][frame][0, 0:3]]) * 100)\n",
    "\n",
    "        images.append(env.render('rgb_array'))\n",
    "\n",
    "    state = env.get_state()\n",
    "\n",
    "    positions.append(np.concatenate((state['state'][0], np.ones([len(state['state'][0]), 1])), 1))\n",
    "\n",
    "    sts = np.array(state['state'][4:])\n",
    "    shape_states.append(np.concatenate([sts[:, :3], sts[:, :3], sts[:, 3:], sts[:, 3:]], axis=1))\n",
    "\n",
    "    states = {\n",
    "            'positions': np.array([positions]),\n",
    "            'shape_states': np.array([shape_states]),\n",
    "            'E': params[param_i][0], \n",
    "            'YS': params[param_i][1], \n",
    "            'nu': params[param_i][2]\n",
    "            }\n",
    "\n",
    "    with open('params/{:0>4}.npy'.format(str(param_i)), 'wb') as f:\n",
    "            np.save(f, states)\n",
    "\n",
    "\n",
    "    animate(images, 'params/{:0>4}.webm'.format(str(param_i)))"
   ]
  },
  {
   "cell_type": "code",
   "execution_count": 10,
   "id": "bb34b99f",
   "metadata": {},
   "outputs": [
    {
     "name": "stdout",
     "output_type": "stream",
     "text": [
      "38\r"
     ]
    }
   ],
   "source": [
    "# random parameter dataset\n",
    "for param_i in range(1000):\n",
    "    \n",
    "    env.initialize()\n",
    "    \n",
    "    ys = 5 + np.random.random()*195\n",
    "    E = 1000 + np.random.random()*4000\n",
    "    nu = 0.1 + np.random.random()*0.2\n",
    "\n",
    "    set_parameters(env, ys, E, nu)\n",
    "\n",
    "    state = env.get_state()\n",
    "\n",
    "\n",
    "    gripper_config = sample_gripper_config()\n",
    "    x, v, F, C, p1, p2 = state['state']\n",
    "\n",
    "    d = np.load(\"../RiceGrip/{:0>4}.npy\".format(str(param_i)), allow_pickle=True).item()\n",
    "\n",
    "    d['shape_states'][:, :, :, 0] /= 5\n",
    "    d['shape_states'][:, :, :, 2] /= 5\n",
    "    d['shape_states'][:, :, :, 0] += 0.5\n",
    "    d['shape_states'][:, :, :, 2] += 0.5\n",
    "    d['shape_states'][:, :, :, 1] = 0.16\n",
    "\n",
    "    shape_states_ = d['shape_states'][0][0]\n",
    "\n",
    "    p1[:3] = shape_states_[0][0:3]\n",
    "    p2[:3] = shape_states_[1][0:3]\n",
    "    p1[3:] = shape_states_[0][6:10]\n",
    "    p2[3:] = shape_states_[1][6:10]\n",
    "\n",
    "\n",
    "    new_state = {\n",
    "        'state': (x, v, F, C, p1, p2),\n",
    "        'is_copy': state['is_copy'],\n",
    "        'softness': state['softness'],\n",
    "    }\n",
    "    env.set_state(**new_state)\n",
    "\n",
    "\n",
    "    positions = []\n",
    "    shape_states = []\n",
    "\n",
    "\n",
    "    images = []\n",
    "    states = []\n",
    "\n",
    "    for frame in range(40-1):\n",
    "        print(f'{frame}', end=\"\\r\",)\n",
    "\n",
    "        state = env.get_state()\n",
    "        \n",
    "        positions.append(np.concatenate((state['state'][0], np.ones([len(state['state'][0]), 1])), 1))\n",
    "        sts = np.array(state['state'][4:6])\n",
    "        shape_states.append(np.concatenate([sts[:, :3], sts[:, :3], sts[:, 3:], sts[:, 3:]], axis=1))\n",
    "        \n",
    "\n",
    "        # env.step(calc_shape_states_dx(frame * dt, gripper_config))\n",
    "        env.step(np.concatenate([d['shape_states'][0][frame+1][0, 0:3] - d['shape_states'][0][frame][0, 0:3], d['shape_states'][0][frame+1][1, 0:3] - d['shape_states'][0][frame][1, 0:3]]) * 100)\n",
    "\n",
    "        images.append(env.render('rgb_array'))\n",
    "\n",
    "    state = env.get_state()\n",
    "\n",
    "    positions.append(np.concatenate((state['state'][0], np.ones([len(state['state'][0]), 1])), 1))\n",
    "\n",
    "    sts = np.array(state['state'][4:6])\n",
    "    shape_states.append(np.concatenate([sts[:, :3], sts[:, :3], sts[:, 3:], sts[:, 3:]], axis=1))\n",
    "\n",
    "    states = {\n",
    "            'positions': np.array([positions]),\n",
    "            'shape_states': np.array([shape_states]),\n",
    "            'YS': ys, \n",
    "            'E': E, \n",
    "            'nu': nu\n",
    "            }\n",
    "\n",
    "    with open('data/{:0>4}.npy'.format(str(param_i)), 'wb') as f:\n",
    "            np.save(f, states)\n",
    "\n",
    "\n",
    "    # animate(images, 'data/{:0>4}.webm'.format(str(param_i)))"
   ]
  },
  {
   "cell_type": "code",
   "execution_count": null,
   "id": "415a5746",
   "metadata": {},
   "outputs": [],
   "source": []
  }
 ],
 "metadata": {
  "kernelspec": {
   "display_name": "Python 3 (ipykernel)",
   "language": "python",
   "name": "python3"
  },
  "language_info": {
   "codemirror_mode": {
    "name": "ipython",
    "version": 3
   },
   "file_extension": ".py",
   "mimetype": "text/x-python",
   "name": "python",
   "nbconvert_exporter": "python",
   "pygments_lexer": "ipython3",
   "version": "3.7.11"
  }
 },
 "nbformat": 4,
 "nbformat_minor": 5
}
